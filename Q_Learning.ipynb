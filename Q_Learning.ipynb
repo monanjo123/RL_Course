{
  "nbformat": 4,
  "nbformat_minor": 0,
  "metadata": {
    "colab": {
      "name": "Q-Learning.ipynb",
      "provenance": [],
      "toc_visible": true,
      "include_colab_link": true
    },
    "kernelspec": {
      "name": "python3",
      "display_name": "Python 3"
    },
    "accelerator": "GPU"
  },
  "cells": [
    {
      "cell_type": "markdown",
      "metadata": {
        "id": "view-in-github",
        "colab_type": "text"
      },
      "source": [
        "<a href=\"https://colab.research.google.com/github/monanjo123/RL_Course/blob/master/Q_Learning.ipynb\" target=\"_parent\"><img src=\"https://colab.research.google.com/assets/colab-badge.svg\" alt=\"Open In Colab\"/></a>"
      ]
    },
    {
      "cell_type": "code",
      "metadata": {
        "id": "F2EAhugxWEU2",
        "colab_type": "code",
        "colab": {}
      },
      "source": [
        "# Optimizing Warehouse flows with Q-Learning\n",
        "import numpy as np"
      ],
      "execution_count": 0,
      "outputs": []
    },
    {
      "cell_type": "code",
      "metadata": {
        "id": "WEjZCdN1WZbQ",
        "colab_type": "code",
        "colab": {}
      },
      "source": [
        "# set gamma and alpha\n",
        "gamma = 0.75\n",
        "alpha = 0.9"
      ],
      "execution_count": 0,
      "outputs": []
    },
    {
      "cell_type": "markdown",
      "metadata": {
        "id": "bWvQAFYFWkfR",
        "colab_type": "text"
      },
      "source": [
        "# Define the environment"
      ]
    },
    {
      "cell_type": "markdown",
      "metadata": {
        "id": "cJVsBmEBWqqZ",
        "colab_type": "text"
      },
      "source": [
        "## States"
      ]
    },
    {
      "cell_type": "code",
      "metadata": {
        "id": "MZrhH2WtWjXh",
        "colab_type": "code",
        "colab": {}
      },
      "source": [
        "location_to_state = {\n",
        "    'A': 0,\n",
        "    'B': 1,\n",
        "    'C': 2,\n",
        "    'D': 3,\n",
        "    'E': 4,\n",
        "    'F': 5,\n",
        "    'G': 6,\n",
        "    'H': 7,\n",
        "    'I': 8,\n",
        "    'J': 9,\n",
        "    'K': 10,\n",
        "    'L': 11\n",
        "}\n",
        "state_to_location = {state: location for location, state in location_to_state.items()}"
      ],
      "execution_count": 0,
      "outputs": []
    },
    {
      "cell_type": "markdown",
      "metadata": {
        "id": "qFhTb0yilcNu",
        "colab_type": "text"
      },
      "source": [
        "## Action"
      ]
    },
    {
      "cell_type": "code",
      "metadata": {
        "id": "ZYn3Sl3BlbQF",
        "colab_type": "code",
        "colab": {}
      },
      "source": [
        "action = [0 , 1, 2, 3, 4, 5, 6, 7, 8, 9, 10, 11]"
      ],
      "execution_count": 0,
      "outputs": []
    },
    {
      "cell_type": "markdown",
      "metadata": {
        "id": "V5zLcZukldw9",
        "colab_type": "text"
      },
      "source": [
        "## Rewards"
      ]
    },
    {
      "cell_type": "code",
      "metadata": {
        "id": "IqJlX6Xslc_N",
        "colab_type": "code",
        "colab": {}
      },
      "source": [
        "R = np.array([\n",
        "    [1,1,0,0,0,0,0,0,0,0,0,0],\n",
        "    [1,0,1,0,0,1,0,0,0,0,0,0],\n",
        "    [0,1,0,0,0,0,1,0,0,0,0,0],\n",
        "    [0,0,0,0,0,0,0,1,0,0,0,0],\n",
        "    [0,0,0,0,0,0,0,0,1,0,0,0],\n",
        "    [0,1,0,0,0,0,0,0,0,1,0,0],\n",
        "    [0,0,1,0,0,0,1,1,0,0,0,0],\n",
        "    [0,0,0,1,0,0,1,0,0,0,0,1],\n",
        "    [0,0,0,0,1,0,0,0,0,1,0,0],\n",
        "    [0,0,0,0,0,1,0,0,1,0,1,0],\n",
        "    [0,0,0,0,0,0,0,0,0,1,0,1],\n",
        "    [0,0,0,0,0,0,0,1,0,0,1,0]\n",
        "])"
      ],
      "execution_count": 0,
      "outputs": []
    },
    {
      "cell_type": "markdown",
      "metadata": {
        "id": "Cogke2gjmmK1",
        "colab_type": "text"
      },
      "source": [
        "## Building the Q-Learning Algorithm"
      ]
    },
    {
      "cell_type": "code",
      "metadata": {
        "id": "N-vLXnZvmVxw",
        "colab_type": "code",
        "colab": {}
      },
      "source": [
        "def train(R, Q):\n",
        "  # Implement Q-learning process\n",
        "  for i in range(1000):\n",
        "    # select random state\n",
        "    current_state = np.random.randint(0,12)\n",
        "    # play a random action, such that R > 0\n",
        "    playable_actions = []\n",
        "    for j in range(12):\n",
        "      if R[current_state, j] > 0:\n",
        "        playable_actions.append(j)\n",
        "    # get next_state and current reward\n",
        "    next_state = np.random.choice(playable_actions)\n",
        "    current_reward = R[current_state, next_state]\n",
        "\n",
        "    # Calculate the Temporal Difference\n",
        "    TD = current_reward + gamma*Q[next_state, np.argmax(Q[next_state,])] - Q[current_state, next_state]\n",
        "\n",
        "    # Update Q by Bellman's Equation\n",
        "    Q[current_state, next_state] += alpha*TD\n",
        "\n",
        "  return Q"
      ],
      "execution_count": 0,
      "outputs": []
    },
    {
      "cell_type": "markdown",
      "metadata": {
        "id": "2SatUHTc2aih",
        "colab_type": "text"
      },
      "source": [
        "## Deploying the Q-learning"
      ]
    },
    {
      "cell_type": "code",
      "metadata": {
        "id": "KEjBm4YY0A8N",
        "colab_type": "code",
        "colab": {}
      },
      "source": [
        "def route(starting_location, ending_location):\n",
        "  route = [starting_location]\n",
        "  # Initialize Q - value\n",
        "  Q = np.array(np.zeros([12,12]))\n",
        "  \n",
        "  # Initialize new R\n",
        "  R_new = np.copy(R)\n",
        "  starting_state = location_to_state[starting_location]\n",
        "  ending_state = location_to_state[ending_location]\n",
        "  # set 1000 as reward value for the end state\n",
        "  R_new[ending_state, ending_state] = 1000\n",
        "  \n",
        "  Q = train(R_new, Q)\n",
        "  next_state = starting_state\n",
        "  while(next_state != ending_state):\n",
        "    next_state = np.argmax(Q[next_state,])\n",
        "    route.append(state_to_location[next_state])\n",
        "    \n",
        "  return route"
      ],
      "execution_count": 0,
      "outputs": []
    },
    {
      "cell_type": "code",
      "metadata": {
        "id": "sUCSExoK09PQ",
        "colab_type": "code",
        "colab": {}
      },
      "source": [
        "# make location prioritization\n",
        "def best_route(starting_location, end_locations=[]):\n",
        "  best_route = []\n",
        "  if end_locations:\n",
        "    print(end_locations)\n",
        "    start_loc = starting_location\n",
        "    for loc in end_locations:\n",
        "      best_route += route(start_loc, loc)[1:]\n",
        "      start_loc = loc\n",
        "    best_route.insert(0,starting_location)\n",
        "    print(best_route)  \n",
        "  else:\n",
        "    print('No end locations')\n",
        "    "
      ],
      "execution_count": 0,
      "outputs": []
    },
    {
      "cell_type": "code",
      "metadata": {
        "id": "vR7CuEs65rv7",
        "colab_type": "code",
        "colab": {
          "base_uri": "https://localhost:8080/",
          "height": 51
        },
        "outputId": "7d2ff9b8-a8b2-44ce-a7e7-77cc0a1396f5"
      },
      "source": [
        "locations = ['B', 'G', 'H']\n",
        "best_route('A', end_locations=locations)"
      ],
      "execution_count": 55,
      "outputs": [
        {
          "output_type": "stream",
          "text": [
            "['B', 'G', 'H']\n",
            "['A', 'B', 'C', 'G', 'H']\n"
          ],
          "name": "stdout"
        }
      ]
    }
  ]
}