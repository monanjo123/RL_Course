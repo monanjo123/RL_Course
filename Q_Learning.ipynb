{
  "nbformat": 4,
  "nbformat_minor": 0,
  "metadata": {
    "colab": {
      "name": "Q-Learning.ipynb",
      "provenance": [],
      "include_colab_link": true
    },
    "kernelspec": {
      "name": "python3",
      "display_name": "Python 3"
    }
  },
  "cells": [
    {
      "cell_type": "markdown",
      "metadata": {
        "id": "view-in-github",
        "colab_type": "text"
      },
      "source": [
        "<a href=\"https://colab.research.google.com/github/monanjo123/RL_Course/blob/master/Q_Learning.ipynb\" target=\"_parent\"><img src=\"https://colab.research.google.com/assets/colab-badge.svg\" alt=\"Open In Colab\"/></a>"
      ]
    },
    {
      "cell_type": "code",
      "metadata": {
        "id": "F2EAhugxWEU2",
        "colab_type": "code",
        "colab": {}
      },
      "source": [
        "# Optimizing Warehouse flows with Q-Learning\n",
        "import numpy as np"
      ],
      "execution_count": 0,
      "outputs": []
    },
    {
      "cell_type": "code",
      "metadata": {
        "id": "WEjZCdN1WZbQ",
        "colab_type": "code",
        "colab": {}
      },
      "source": [
        "# set gamma and alpha\n",
        "gamma = 0.75\n",
        "alpha = 0.9"
      ],
      "execution_count": 0,
      "outputs": []
    },
    {
      "cell_type": "markdown",
      "metadata": {
        "id": "bWvQAFYFWkfR",
        "colab_type": "text"
      },
      "source": [
        "# Define the environment"
      ]
    },
    {
      "cell_type": "markdown",
      "metadata": {
        "id": "cJVsBmEBWqqZ",
        "colab_type": "text"
      },
      "source": [
        "## States"
      ]
    },
    {
      "cell_type": "code",
      "metadata": {
        "id": "MZrhH2WtWjXh",
        "colab_type": "code",
        "colab": {}
      },
      "source": [
        "location_to_state = {\n",
        "    'A': 0,\n",
        "    'B': 1,\n",
        "    'C': 2,\n",
        "    'D': 3,\n",
        "    'E': 4,\n",
        "    'F': 5,\n",
        "    'G': 6,\n",
        "    'H': 7,\n",
        "    'I': 8,\n",
        "    'J': 9,\n",
        "    'K': 10,\n",
        "    'L': 11\n",
        "}\n",
        "state_to_location = {state: location for location, state in location_to_state.items()}"
      ],
      "execution_count": 0,
      "outputs": []
    },
    {
      "cell_type": "markdown",
      "metadata": {
        "id": "qFhTb0yilcNu",
        "colab_type": "text"
      },
      "source": [
        "## Action"
      ]
    },
    {
      "cell_type": "code",
      "metadata": {
        "id": "ZYn3Sl3BlbQF",
        "colab_type": "code",
        "colab": {}
      },
      "source": [
        "action = [0 , 1, 2, 3, 4, 5, 6, 7, 8, 9, 10, 11]"
      ],
      "execution_count": 0,
      "outputs": []
    },
    {
      "cell_type": "markdown",
      "metadata": {
        "id": "V5zLcZukldw9",
        "colab_type": "text"
      },
      "source": [
        "## Rewards"
      ]
    },
    {
      "cell_type": "code",
      "metadata": {
        "id": "IqJlX6Xslc_N",
        "colab_type": "code",
        "colab": {}
      },
      "source": [
        "R = np.array([\n",
        "    [0,1,0,0,0,0,0,0,0,0,0,0],\n",
        "    [1,0,1,0,0,1,0,0,0,0,0,0],\n",
        "    [0,1,0,0,0,0,1,0,0,0,0,0],\n",
        "    [0,0,0,0,0,0,0,1,0,0,0,0],\n",
        "    [0,0,0,0,0,0,0,0,1,0,0,0],\n",
        "    [0,1,0,0,0,0,0,0,0,1,0,0],\n",
        "    [0,0,1,0,0,0,1,1,0,0,0,0],\n",
        "    [0,0,0,1,0,0,1,0,0,0,0,1],\n",
        "    [0,0,0,0,1,0,0,0,0,1,0,0],\n",
        "    [0,0,0,0,0,1,0,0,1,0,1,0],\n",
        "    [0,0,0,0,0,0,0,0,0,1,0,1],\n",
        "    [0,0,0,0,0,0,0,1,0,0,1,0]\n",
        "])"
      ],
      "execution_count": 0,
      "outputs": []
    },
    {
      "cell_type": "code",
      "metadata": {
        "id": "N-vLXnZvmVxw",
        "colab_type": "code",
        "colab": {
          "base_uri": "https://localhost:8080/",
          "height": 221
        },
        "outputId": "65c67bf8-417d-47dc-b943-7352f6cd5b77"
      },
      "source": [
        "R"
      ],
      "execution_count": 8,
      "outputs": [
        {
          "output_type": "execute_result",
          "data": {
            "text/plain": [
              "array([[0, 1, 0, 0, 0, 0, 0, 0, 0, 0, 0, 0],\n",
              "       [1, 0, 1, 0, 0, 1, 0, 0, 0, 0, 0, 0],\n",
              "       [0, 1, 0, 0, 0, 0, 1, 0, 0, 0, 0, 0],\n",
              "       [0, 0, 0, 0, 0, 0, 0, 1, 0, 0, 0, 0],\n",
              "       [0, 0, 0, 0, 0, 0, 0, 0, 1, 0, 0, 0],\n",
              "       [0, 1, 0, 0, 0, 0, 0, 0, 0, 1, 0, 0],\n",
              "       [0, 0, 1, 0, 0, 0, 1, 1, 0, 0, 0, 0],\n",
              "       [0, 0, 0, 1, 0, 0, 1, 0, 0, 0, 0, 1],\n",
              "       [0, 0, 0, 0, 1, 0, 0, 0, 0, 1, 0, 0],\n",
              "       [0, 0, 0, 0, 0, 1, 0, 0, 1, 0, 1, 0],\n",
              "       [0, 0, 0, 0, 0, 0, 0, 0, 0, 1, 0, 1],\n",
              "       [0, 0, 0, 0, 0, 0, 0, 1, 0, 0, 1, 0]])"
            ]
          },
          "metadata": {
            "tags": []
          },
          "execution_count": 8
        }
      ]
    }
  ]
}